{
 "cells": [
  {
   "cell_type": "code",
   "execution_count": 43,
   "metadata": {},
   "outputs": [],
   "source": [
    "from selenium import webdriver\n",
    "from selenium.webdriver.common.keys import Keys\n",
    "import time"
   ]
  },
  {
   "cell_type": "code",
   "execution_count": 65,
   "metadata": {},
   "outputs": [],
   "source": [
    "path = 'https://www.instagram.com/bemycoffee.hn/'\n",
    "browser = webdriver.Chrome(executable_path='./chromedriver')\n",
    "browser.get(path)\n",
    "actionChain = webdriver.ActionChains(browser)"
   ]
  },
  {
   "cell_type": "code",
   "execution_count": 66,
   "metadata": {},
   "outputs": [],
   "source": [
    "img_links = set()"
   ]
  },
  {
   "cell_type": "code",
   "execution_count": 67,
   "metadata": {},
   "outputs": [],
   "source": [
    "outer_container = browser.find_element_by_class_name(\"_2z6nI\")"
   ]
  },
  {
   "cell_type": "code",
   "execution_count": 68,
   "metadata": {},
   "outputs": [],
   "source": [
    "img_containers = (outer_container.find_elements_by_class_name(\"KL4Bh\"))"
   ]
  },
  {
   "cell_type": "code",
   "execution_count": 69,
   "metadata": {},
   "outputs": [],
   "source": [
    "img_element = img_containers[0].find_element_by_css_selector('img')"
   ]
  },
  {
   "cell_type": "code",
   "execution_count": 70,
   "metadata": {},
   "outputs": [
    {
     "name": "stdout",
     "output_type": "stream",
     "text": [
      "https://www.instagram.com/p/BzLIR5xFErk/\n"
     ]
    }
   ],
   "source": [
    "print(img_element.find_element_by_xpath('./../../..').get_attribute('href'))"
   ]
  },
  {
   "cell_type": "code",
   "execution_count": 71,
   "metadata": {},
   "outputs": [],
   "source": [
    "for i in range(30):\n",
    "    actionChain.key_down(Keys.SPACE).key_up(Keys.SPACE).perform()\n",
    "    time.sleep(1)\n",
    "    \n",
    "    img_containers = (outer_container.find_elements_by_class_name(\"KL4Bh\"))\n",
    "\n",
    "    for img_container in img_containers:\n",
    "        img_element = img_container.find_element_by_css_selector('img')\n",
    "        caption = img_element.get_attribute('alt')\n",
    "        cur_link = img_element.find_element_by_xpath('./../../..').get_attribute('href')\n",
    "        img_links.add((cur_link, caption))\n",
    "    time.sleep(1)"
   ]
  },
  {
   "cell_type": "code",
   "execution_count": 72,
   "metadata": {
    "scrolled": true
   },
   "outputs": [
    {
     "data": {
      "text/plain": [
       "267"
      ]
     },
     "execution_count": 72,
     "metadata": {},
     "output_type": "execute_result"
    }
   ],
   "source": [
    "len(img_links)"
   ]
  },
  {
   "cell_type": "code",
   "execution_count": 73,
   "metadata": {},
   "outputs": [],
   "source": [
    "import json"
   ]
  },
  {
   "cell_type": "code",
   "execution_count": 81,
   "metadata": {},
   "outputs": [
    {
     "name": "stdout",
     "output_type": "stream",
     "text": [
      "267\n"
     ]
    }
   ],
   "source": [
    "adict = {}\n",
    "for post_link, caption in img_links:\n",
    "    code = post_link.split('/')[-2]    \n",
    "    adict[code] = {\n",
    "        'url' : post_link,\n",
    "        'caption' : caption\n",
    "    }\n",
    "print(len(adict))"
   ]
  },
  {
   "cell_type": "code",
   "execution_count": 83,
   "metadata": {
    "scrolled": true
   },
   "outputs": [
    {
     "data": {
      "text/plain": [
       "{'url': 'https://www.instagram.com/p/BuGsVYRAHXe/',\n",
       " 'caption': '[ NHÃ NAM BOOKS N COFFEE - 115D1 TRẦN HUY LIỆU ]\\n⭐️ 9/10\\n⏰ 8:00 - 22:00\\n💵 20.000d - 40.000d\\n❗️Passwifi : nhanam12345\\n📍Mình ngồi ở Nhã Nam từ hơn một năm trước lúc ôn thi đại học, đây luôn là địa điểm siêu yêu thích để ngồi học của mình, hoàn hảo cả về không gian, đồ uống, âm nhạc và cả con người \\U0001f97a\\U0001f97a lí do bây giờ mình mới review thì cũng đơn giản thôi vì mình lười =)))) đến đây thành khách quen rồi nhưng cứ đặt mông là lại tìm sách đọc, có thêm ý chí học hành tệ hơn thì sẽ ngủ quên luôn vì ở đây yên tĩnh chill chill. Đây đúng nghĩa là quán cafe trong một nhà sách, sách ở muôn nơi, sách đầy trên giá sách các bạn có thể mua sách luôn hi hi =))) không gian quán thì bé thui nhưng khá nhiều chỗ ngồi, mình thích nhất ngồi ở chiếc bàn dài hướng ra đường vì nó sáng hoặc ngồi ở góc có một đống cây xanh xanh ( haiz dốt văn tả cho các bạn có chán không ). Ở đây khá đông khách đó nhưng mọi người luôn luôn yên lặngggg thật sự chỉ nghe thấy tiếng nhạc hoặc tiếng nhân viên pha đồ thôi nên mình mê cực. Highly rec cho các bạn đến đây học và làm việc nhé\\n☕️ Hôm qua mình gọi một nước ép dứa (30k), một nước ép cam (35k) đầy ú ụ uống vừa miệng lắm không bị chua quá hay ngọt quá. Nếu các bạn có khômg hài lòng về đồ uống có thể bảo lại với nhân viên luôn họ sẽ pha lại cho các bạn nhé :>\\n#bemycoffeebadinh\\n#liketkit #hanoiwander #morningcoffee #coffeenclothes #coffee #stylepost #simplestyle #love #hanoianstotravel #tea #time #hanoilifestyle #mugsofinstagram #mug #coffeemug #teaaddict #coffeeaddict #hanoian #coffeeholic #hanoicoffee #motivasyon #yks #teatime #teabreak #americano #chai #happiness #beverage'}"
      ]
     },
     "execution_count": 83,
     "metadata": {},
     "output_type": "execute_result"
    }
   ],
   "source": [
    "adict[list(adict.keys())[2]]"
   ]
  },
  {
   "cell_type": "code",
   "execution_count": 86,
   "metadata": {},
   "outputs": [],
   "source": [
    "with open('data.txt', 'w') as outfile:  \n",
    "    json.dump(adict, outfile)"
   ]
  },
  {
   "cell_type": "code",
   "execution_count": 64,
   "metadata": {
    "scrolled": true
   },
   "outputs": [],
   "source": [
    "browser.close()"
   ]
  }
 ],
 "metadata": {
  "kernelspec": {
   "display_name": "Python 3",
   "language": "python",
   "name": "python3"
  },
  "language_info": {
   "codemirror_mode": {
    "name": "ipython",
    "version": 3
   },
   "file_extension": ".py",
   "mimetype": "text/x-python",
   "name": "python",
   "nbconvert_exporter": "python",
   "pygments_lexer": "ipython3",
   "version": "3.6.8"
  }
 },
 "nbformat": 4,
 "nbformat_minor": 2
}
