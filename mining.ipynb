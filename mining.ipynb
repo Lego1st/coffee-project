{
 "cells": [
  {
   "cell_type": "code",
   "execution_count": 1,
   "metadata": {},
   "outputs": [],
   "source": [
    "import json"
   ]
  },
  {
   "cell_type": "code",
   "execution_count": 2,
   "metadata": {},
   "outputs": [],
   "source": [
    "with open('data.json') as infile:\n",
    "    data = json.load(infile)"
   ]
  },
  {
   "cell_type": "code",
   "execution_count": 5,
   "metadata": {},
   "outputs": [],
   "source": [
    "codes = list(data.keys())"
   ]
  },
  {
   "cell_type": "code",
   "execution_count": 8,
   "metadata": {},
   "outputs": [],
   "source": [
    "corpus = [data[code]['caption'] for code in codes]"
   ]
  },
  {
   "cell_type": "code",
   "execution_count": 14,
   "metadata": {
    "scrolled": true
   },
   "outputs": [
    {
     "data": {
      "text/plain": [
       "('[ TRO SWEET - TẦNG 4, 166 NGỌC KHÁNH ]\\n💵 25.000d - 50.000d\\n❗️Pass wifi : 166ngockhanhh\\n📍Mình biết đến Tro khi mới mở cơ sở ở Hàng Bún thôi, khá xa nhà mình, sau có mở thêm cơ sở ở Ngọc Khánh đỡ xa hơn nên mình hay ngồi đây hơn =)))) Các bạn chú ý gửi xe phía đối diện toà nhà 5k một lần nha. Sau đó đi vào ngõ nhỏ cạnh toà 166, có lối dẫn vào thang máy đi lên tầng 4 là quán rồi. Lần đầu mình đến loay hoay mãi mới lên được :( mình nghĩ nên có thêm biển chỉ dẫn hay đèn đường gì đó để mọi người dễ nhận ra hơn hmmm. Quán có không gian siêu bé, một gian làm bánh ngay tại quán và một gian cafe xinh xắn ngồi học. Ở đây có tầm 4 bàn nhỏ và có một chiếc ghế sofa to bự, chắc hợp đi học một mình hoặc rủ thêm 1 2 người bạn đi cùng. Cũng may quán khá yên tĩnh lại có ô cửa kính to bự view nhìn ko đẹp lắm nhưng đi ban ngày chắc cũng sáng sủa, mình toàn ra đây học tối thuii. ☕️ Tro là nơi làm những loại bánh Nhật. Ở Tro nổi tiếng với bánh cuộn Takesumi ( bánh tinh than tre ) ( 30k ), đây là loại bánh có màu sắc đặc biệt =)))) nma ăn ngon lắm, bánh xốp, tơi, ăn cùng kem ngọt nhẹ mình hay gọi kèm trà để nhâm nhi. Ngoài ra mình đã thử thêm cả Magic Flan (29k), đây là loại bánh lớp trên là Flan còn dưới là lớp bánh xốp, ăn kèm cho đỡ bị ngọt. Thêm vào đó còn có Triffle Socola chỉ bán vào t6,t7, chủ nhật, đây là loại bánh khá ngọt, các bạn có thể gọi sang Triffle Phúc Bồn Tử chua chua sẽ bớt ngọt hơn, giá bánh là 30k. Các bạn nên thử thêm cả Heavenly Cheesecake (42k), Japanese Cheesecake (40k) cũng là những loại bánh được đánh giá cao ở Tro. Giá bánh ở đây khá ổn với chất lượng tuyệt vời nên khá phù hợp để các bạn cắm chân lâu dài đó :>\\n#bemycoffeebadinh\\n#liketkit #hanoiwander #morningcoffee #coffeenclothes #coffee #stylepost #simplestyle #love #hanoianstotravel #tea #time #hanoilifestyle #mugsofinstagram #mug #coffeemug #teaaddict #coffeeaddict #hanoian #coffeeholic #hanoicoffee #motivasyon #yks #teatime #teabreak #americano #chai #happiness #beverage #ourhanoi',\n",
       " '[ ANGEL IN US COFFEE - TẦNG 1 LOTTE CENTER, 54 LIỄU GIAI ]\\n💵 50.000d - 100.000d\\n❗️Pass wifi : americano\\n📍 Angel in us coffee chắc không còn xa lạ với mọi người nữa, đây nổi tiếng là quán cafe tuy có giá thành hơi cao so với những quán cafe khác nhưng đúng như câu : “ Tiền nào của nấy “ thì mình rất hài lòng với chất lượng đồ uống ở đây. Không khó để tìm ra Angle In Us bởi nằm ngay giữa trung tâm, các bạn chỉ cần gửi xe dưới hầm và đi lên tầng 1 là thấy được quán, không thì có thể hỏi bảo vệ ở đây nhé. Không gian quán vô cùng rộng, có những bàn riêng để mọi người làm việc, có những chiếc ghế xofa để ngồi bàn việc như mấy sếp =)))) có cả bàn dài cho nhóm bạn đến đông nữa. Lần đầu mình đến vào giờ làm việc của mọi người thì không gian vô cùng im ắng và quá tuyệt vời để học và làm việc. Thế nhưng lần thứ 2 đến vào một buổi tối, mọi người nói chuyện khá ồn ào nên mình không thích lắm hu. Đúng là phải có yếu tố may mắn trong mỗi lần đi cafe tìm được không gian yên tĩnh 😢\\n☕️ Hôm đó mình có gọi Matcha Latte ( 65k ). Giá có hơi cao nhưng thực sự sau hơn 2 năm đi bao nhiêu quán cafe rồi thì đây là nơi có Matcha Latte ngon nhất mà mình từng được thử. Nghe chị nhân viên giới thiệu đây là Matcha xịn và cũng là một trong những thứ đồ uống ngon nhất ở đây nên mình gật lẹ. Huhu lâu lắm rồi mới có một cốc Matcha Latte chuẩn vị như thế, không bị ngọt quá mà vẫn thơm mùi Matcha, uống vào mà vị đọng lại tận cổ mãi không trôi !!!! Nhất định mình sẽ quay lại đây ngoài việc thử lại Matcha mà còn ăn thêm đồ ăn ở đây nữa nghe nói Bingsu ngon lắm huhu mùa hè đến rồi mùa của Bingsuuuu..\\n#bemycoffeebadinh\\n#liketkit #hanoiwander #morningcoffee #coffeenclothes #coffee #stylepost #simplestyle #love #hanoianstotravel #tea #time #hanoilifestyle #mugsofinstagram #mug #coffeemug #teaaddict #coffeeaddict #hanoian #coffeeholic #hanoicoffee #motivasyon #yks #teatime #teabreak #americano #chai #happiness #beverage #ourhanoi')"
      ]
     },
     "execution_count": 14,
     "metadata": {},
     "output_type": "execute_result"
    }
   ],
   "source": [
    "corpus[0], corpus[-1]"
   ]
  },
  {
   "cell_type": "code",
   "execution_count": 18,
   "metadata": {},
   "outputs": [
    {
     "data": {
      "text/plain": [
       "['[ TRO SWEET - TẦNG 4, 166 NGỌC KHÁNH ]',\n",
       " '💵 25.000d - 50.000d',\n",
       " '❗️Pass wifi : 166ngockhanhh',\n",
       " '📍Mình biết đến Tro khi mới mở cơ sở ở Hàng Bún thôi, khá xa nhà mình, sau có mở thêm cơ sở ở Ngọc Khánh đỡ xa hơn nên mình hay ngồi đây hơn =)))) Các bạn chú ý gửi xe phía đối diện toà nhà 5k một lần nha. Sau đó đi vào ngõ nhỏ cạnh toà 166, có lối dẫn vào thang máy đi lên tầng 4 là quán rồi. Lần đầu mình đến loay hoay mãi mới lên được :( mình nghĩ nên có thêm biển chỉ dẫn hay đèn đường gì đó để mọi người dễ nhận ra hơn hmmm. Quán có không gian siêu bé, một gian làm bánh ngay tại quán và một gian cafe xinh xắn ngồi học. Ở đây có tầm 4 bàn nhỏ và có một chiếc ghế sofa to bự, chắc hợp đi học một mình hoặc rủ thêm 1 2 người bạn đi cùng. Cũng may quán khá yên tĩnh lại có ô cửa kính to bự view nhìn ko đẹp lắm nhưng đi ban ngày chắc cũng sáng sủa, mình toàn ra đây học tối thuii. ☕️ Tro là nơi làm những loại bánh Nhật. Ở Tro nổi tiếng với bánh cuộn Takesumi ( bánh tinh than tre ) ( 30k ), đây là loại bánh có màu sắc đặc biệt =)))) nma ăn ngon lắm, bánh xốp, tơi, ăn cùng kem ngọt nhẹ mình hay gọi kèm trà để nhâm nhi. Ngoài ra mình đã thử thêm cả Magic Flan (29k), đây là loại bánh lớp trên là Flan còn dưới là lớp bánh xốp, ăn kèm cho đỡ bị ngọt. Thêm vào đó còn có Triffle Socola chỉ bán vào t6,t7, chủ nhật, đây là loại bánh khá ngọt, các bạn có thể gọi sang Triffle Phúc Bồn Tử chua chua sẽ bớt ngọt hơn, giá bánh là 30k. Các bạn nên thử thêm cả Heavenly Cheesecake (42k), Japanese Cheesecake (40k) cũng là những loại bánh được đánh giá cao ở Tro. Giá bánh ở đây khá ổn với chất lượng tuyệt vời nên khá phù hợp để các bạn cắm chân lâu dài đó :>',\n",
       " '#bemycoffeebadinh',\n",
       " '#liketkit #hanoiwander #morningcoffee #coffeenclothes #coffee #stylepost #simplestyle #love #hanoianstotravel #tea #time #hanoilifestyle #mugsofinstagram #mug #coffeemug #teaaddict #coffeeaddict #hanoian #coffeeholic #hanoicoffee #motivasyon #yks #teatime #teabreak #americano #chai #happiness #beverage #ourhanoi']"
      ]
     },
     "execution_count": 18,
     "metadata": {},
     "output_type": "execute_result"
    }
   ],
   "source": [
    "def clean_data(review):\n",
    "    review = review.split('\\n')\n",
    "    return review\n",
    "clean_data(corpus[0])"
   ]
  },
  {
   "cell_type": "code",
   "execution_count": 19,
   "metadata": {},
   "outputs": [
    {
     "data": {
      "text/plain": [
       "['[ ANGEL IN US COFFEE - TẦNG 1 LOTTE CENTER, 54 LIỄU GIAI ]',\n",
       " '💵 50.000d - 100.000d',\n",
       " '❗️Pass wifi : americano',\n",
       " '📍 Angel in us coffee chắc không còn xa lạ với mọi người nữa, đây nổi tiếng là quán cafe tuy có giá thành hơi cao so với những quán cafe khác nhưng đúng như câu : “ Tiền nào của nấy “ thì mình rất hài lòng với chất lượng đồ uống ở đây. Không khó để tìm ra Angle In Us bởi nằm ngay giữa trung tâm, các bạn chỉ cần gửi xe dưới hầm và đi lên tầng 1 là thấy được quán, không thì có thể hỏi bảo vệ ở đây nhé. Không gian quán vô cùng rộng, có những bàn riêng để mọi người làm việc, có những chiếc ghế xofa để ngồi bàn việc như mấy sếp =)))) có cả bàn dài cho nhóm bạn đến đông nữa. Lần đầu mình đến vào giờ làm việc của mọi người thì không gian vô cùng im ắng và quá tuyệt vời để học và làm việc. Thế nhưng lần thứ 2 đến vào một buổi tối, mọi người nói chuyện khá ồn ào nên mình không thích lắm hu. Đúng là phải có yếu tố may mắn trong mỗi lần đi cafe tìm được không gian yên tĩnh 😢',\n",
       " '☕️ Hôm đó mình có gọi Matcha Latte ( 65k ). Giá có hơi cao nhưng thực sự sau hơn 2 năm đi bao nhiêu quán cafe rồi thì đây là nơi có Matcha Latte ngon nhất mà mình từng được thử. Nghe chị nhân viên giới thiệu đây là Matcha xịn và cũng là một trong những thứ đồ uống ngon nhất ở đây nên mình gật lẹ. Huhu lâu lắm rồi mới có một cốc Matcha Latte chuẩn vị như thế, không bị ngọt quá mà vẫn thơm mùi Matcha, uống vào mà vị đọng lại tận cổ mãi không trôi !!!! Nhất định mình sẽ quay lại đây ngoài việc thử lại Matcha mà còn ăn thêm đồ ăn ở đây nữa nghe nói Bingsu ngon lắm huhu mùa hè đến rồi mùa của Bingsuuuu..',\n",
       " '#bemycoffeebadinh',\n",
       " '#liketkit #hanoiwander #morningcoffee #coffeenclothes #coffee #stylepost #simplestyle #love #hanoianstotravel #tea #time #hanoilifestyle #mugsofinstagram #mug #coffeemug #teaaddict #coffeeaddict #hanoian #coffeeholic #hanoicoffee #motivasyon #yks #teatime #teabreak #americano #chai #happiness #beverage #ourhanoi']"
      ]
     },
     "execution_count": 19,
     "metadata": {},
     "output_type": "execute_result"
    }
   ],
   "source": [
    "clean_data(corpus[-1])"
   ]
  }
 ],
 "metadata": {
  "kernelspec": {
   "display_name": "Python 3",
   "language": "python",
   "name": "python3"
  },
  "language_info": {
   "codemirror_mode": {
    "name": "ipython",
    "version": 3
   },
   "file_extension": ".py",
   "mimetype": "text/x-python",
   "name": "python",
   "nbconvert_exporter": "python",
   "pygments_lexer": "ipython3",
   "version": "3.6.8"
  }
 },
 "nbformat": 4,
 "nbformat_minor": 2
}
